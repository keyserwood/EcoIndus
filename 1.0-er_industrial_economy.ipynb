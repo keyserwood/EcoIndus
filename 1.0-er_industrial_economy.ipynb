{
 "cells": [
  {
   "cell_type": "markdown",
   "id": "5bcfbcba",
   "metadata": {},
   "source": [
    "# Industrial economy\n",
    "\n",
    "## Aim of work : \n",
    "* Compare classic Cournot oligopoly equilibrium with results obtained with a simple iterative process where players evolve their optimal strategies\n",
    "* Different market concentration [monopoly, duopoly, triopoly]\n",
    "* One sided auction : \n",
    "    1. Each indiv. firm selects its outpout\n",
    "    2. Simultaneous offer of quantities to the market\n",
    "    3. Compute a uniform price for all of these quantities\n",
    "    4. Each indiv. compute its profits\n",
    "    5. Thanks to profit each indiv. submits new quanity\n",
    "> Repeat\n",
    "\n",
    "### Market rules\n",
    "$$P(Q) = 600 - Q $$\n",
    "$$Q = \\sum q_i $$\n",
    "* All players are homogeneous hence : cost = 0\n",
    "\n",
    "### Production design\n",
    "* Random pick between \n",
    "*With n : number of firms*\n",
    "$$Q \\in ]0;5*IntegePart(120/n]$$\n",
    "* Produce between 0 and a max capacity \n",
    "* All firms have identical production\n",
    "* Set of individual bid is discrete : \n",
    "    * Can only take values such as 5-units increments : \n",
    "    * We have a bid index link to a quantity produced\n",
    "    * 5,10 ... K-5, K with K=5\n",
    "    * Set of S \n",
    "    * Uniform probability\n",
    "    \n",
    "![Auction_table](table_auction.png)"
   ]
  },
  {
   "cell_type": "markdown",
   "id": "8b28806c",
   "metadata": {},
   "source": [
    "### Load packages"
   ]
  },
  {
   "cell_type": "code",
   "execution_count": 160,
   "id": "da8fb203",
   "metadata": {},
   "outputs": [],
   "source": [
    "import numpy as np\n",
    "import matplotlib.pyplot as plt\n",
    "import pandas as pd"
   ]
  },
  {
   "cell_type": "markdown",
   "id": "85825d09",
   "metadata": {},
   "source": [
    "## Data structure\n",
    "\n",
    "### We are going to have : \n",
    "* With : p = periods \n",
    "* With : n = number of firms\n",
    "* With : s = number of bids possibilities - depending of E(120/n)\n",
    "\n",
    "#### A)  Bid matrix :\n",
    "* A matrix : p rows & n columns (p,n)\n",
    "    * bid(p,n) = Bid of firm n at period p\n",
    "\n",
    "#### B)  Profit matrix:\n",
    "* A matrix : p rows & n columns (p,n)\n",
    "    * profit(p,n) = Profit of firm n at period p\n",
    "\n",
    "\n",
    "#### C)  Propensions matrix:\n",
    "* A matrix : s rows & n columns (s,n)\n",
    "    * prop(s,n) = Propensions of bid s for firm n\n"
   ]
  },
  {
   "cell_type": "code",
   "execution_count": 6,
   "id": "6460db83",
   "metadata": {},
   "outputs": [],
   "source": [
    "n= 10 # number of firms\n",
    "p = 1000 # number of periods\n",
    "s = int((120/n)//1)\n",
    "bid_mat = np.zeros((n,p)) # Bid matrix\n",
    "profit_mat = np.zeros((n,p)) # Profit matrix\n",
    "prop_mat = np.zeros((s,p)) # Propensions matrix"
   ]
  },
  {
   "cell_type": "markdown",
   "id": "f10250a0",
   "metadata": {},
   "source": [
    "## Build framework\n",
    "\n",
    "![consignes](consignes.png)\n"
   ]
  },
  {
   "cell_type": "code",
   "execution_count": 125,
   "id": "8d97a5b1",
   "metadata": {},
   "outputs": [
    {
     "data": {
      "text/plain": [
       "array([1080000., 1080000., 1080000.])"
      ]
     },
     "execution_count": 125,
     "metadata": {},
     "output_type": "execute_result"
    }
   ],
   "source": [
    "sum(prop_mat[:,:,0])"
   ]
  },
  {
   "cell_type": "code",
   "execution_count": 143,
   "id": "b7d96d31",
   "metadata": {},
   "outputs": [],
   "source": [
    "def cournot_framework(n_firms, p_periods,initial_propension=90000,delta=0.3,mu=0.002,gamma=0.01,total_demand=600):\n",
    "    \"\"\"Cournot framework\n",
    "    Args :\n",
    "        n_firms (int): Number of firms \n",
    "        p_periods (int): Number of simulation periods\n",
    "        initial_propension (float) : initial_propension for each value\n",
    "        mu (float) : extinction in finite time\n",
    "        gamma (float) : forget rate \n",
    "        delta (flaot) : propension increaser\n",
    "        total_demand (int): total demand of market\n",
    "    Returns : \n",
    "        bid_mat (np.matrix): Matrix of bid for each firm at each period\n",
    "        profit_mat (np.matrix): Matrix of profit for each firm at each period\n",
    "        prop_mat (np.matrix) : Propension matrix for each bid for each firm for each period\n",
    "        price_vec (np.array) : Market price for each period\"\"\"\n",
    "    s_discrete = int((120/n)//1) #Integer part of 120/n\n",
    "    bid_mat = np.zeros((p_periods,n_firms)) # Bid matrix\n",
    "    profit_mat = np.zeros((p_periods,n_firms)) # Profit matrix\n",
    "    prop_mat = np.ones((s_discrete,n_firms,p_periods))*initial_propension # Propensions matrix\n",
    "    bid_possibilities = np.arange(1,s_discrete+1)*5\n",
    "    price_vec = np.zeros(p_periods)\n",
    "    for period in prange(p_periods):\n",
    "        prob_mat = prop_mat[:,:,period]/np.sum(prop_mat[:,:,period],axis=0) #probability matrix\n",
    "        for firm in prange(n_firms):\n",
    "            ### Across all firms\n",
    "            bid_pick = np.random.choice(bid_possibilities,p=prob_mat[:,firm])\n",
    "            bid_mat[period,firm] = bid_pick\n",
    "        # Once bid are made we can compute price\n",
    "        market_price = total_demand-np.sum(bid_mat[period,:])\n",
    "        price_vec[period] = market_price\n",
    "        profit_mat[period,:] = market_price*bid_mat[period,:]\n",
    "        # Need to recompute propensions for next iterations\n",
    "        for firm in range(n_firms):\n",
    "            for s_bid in range(s_discrete):\n",
    "                # Part 1 of reinforcement :\n",
    "                lambda_ = bid_mat[period,firm]\n",
    "                # Current propension for this period\n",
    "                propension = prop_mat[s_bid,firm,period]\n",
    "                profit = profit_mat[period,firm]\n",
    "                new_propension = propensions_reinforcement_part1(s_bid,propension,profit,lambda_,delta,gamma)\n",
    "                # Set propension for next period\n",
    "                if period + 1 < p_periods:\n",
    "                    ## Do not outbound\n",
    "                    prop_mat[s_bid,firm,period+1] = new_propension\n",
    "            # Second part : adjust regarding mu\n",
    "            if period + 1 < p_periods:\n",
    "                ## Do not outbound\n",
    "                propension_vec = prop_mat[:,firm,period+1]\n",
    "                propension_vec_mu_filter = (propension_vec/np.sum(propension_vec))>mu\n",
    "                prop_mat[:,firm,period+1] = propension_vec*propension_vec_mu_filter\n",
    "    return (bid_mat,profit_mat,prop_mat,prob_mat,price_vec)"
   ]
  },
  {
   "cell_type": "code",
   "execution_count": 161,
   "id": "6a4c914a",
   "metadata": {},
   "outputs": [
    {
     "name": "stdout",
     "output_type": "stream",
     "text": [
      "CPU times: user 455 ms, sys: 3.01 ms, total: 458 ms\n",
      "Wall time: 459 ms\n"
     ]
    }
   ],
   "source": [
    "%%time\n",
    "bid_mat,profit_mat,prop_mat,prob_mat,price_vec = cournot_framework(n_firms = 3,p_periods =2000)"
   ]
  },
  {
   "cell_type": "markdown",
   "id": "d222143b",
   "metadata": {},
   "source": [
    "\n",
    "## Functions\n",
    "\n",
    "#### Reinforcement\n",
    "\n",
    "![reinforcement](reinforcement.png)"
   ]
  },
  {
   "cell_type": "code",
   "execution_count": 130,
   "id": "9b006847",
   "metadata": {},
   "outputs": [],
   "source": [
    "@njit\n",
    "def propensions_reinforcement_part1(bid,propension,profit,lambda_,delta,gamma):\n",
    "    \"\"\"Reinforcing bid : \n",
    "    Args :\n",
    "        bid (int): bid value\n",
    "        propension (float) : propension of bid\n",
    "        profit (float) : profit at period p\n",
    "        lambda_ (int) : bid picked at period p\n",
    "        gamma (float) : forget rate \n",
    "        delta (flaot) : propension increaser\n",
    "    Returns:\n",
    "        new_propension (float): reinforced propension\n",
    "        \"\"\"\n",
    "    # First step : comparison between previously picked bid \n",
    "    # and current bid\n",
    "    new_propension = 0\n",
    "    if bid==lambda_:\n",
    "        new_propension = (1-gamma)*propension+profit\n",
    "    elif bid == lambda_-1 or bid == lambda_ +1:\n",
    "        new_propension = (1-gamma)*propension+profit*(1-delta)\n",
    "    else:\n",
    "        new_propension = (1-gamma)*propension\n",
    "    return new_propension"
   ]
  }
 ],
 "metadata": {
  "kernelspec": {
   "display_name": "Python 3",
   "language": "python",
   "name": "python3"
  },
  "language_info": {
   "codemirror_mode": {
    "name": "ipython",
    "version": 3
   },
   "file_extension": ".py",
   "mimetype": "text/x-python",
   "name": "python",
   "nbconvert_exporter": "python",
   "pygments_lexer": "ipython3",
   "version": "3.7.9"
  }
 },
 "nbformat": 4,
 "nbformat_minor": 5
}
