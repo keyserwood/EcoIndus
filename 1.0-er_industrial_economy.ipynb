{
 "cells": [
  {
   "cell_type": "markdown",
   "id": "582c85c9",
   "metadata": {},
   "source": [
    "# Questions enoncés : \n",
    "\n",
    "* 20 or 50 ? \n",
    "* Price average ? Moving AVERAGE ? \n",
    "\n",
    "# Industrial economy\n",
    "\n",
    "## Aim of work : \n",
    "* Compare classic Cournot oligopoly equilibrium with results obtained with a simple iterative process where players evolve their optimal strategies\n",
    "* Different market concentration [monopoly, duopoly, triopoly]\n",
    "* One sided auction : \n",
    "    1. Each indiv. firm selects its outpout\n",
    "    2. Simultaneous offer of quantities to the market\n",
    "    3. Compute a uniform price for all of these quantities\n",
    "    4. Each indiv. compute its profits\n",
    "    5. Thanks to profit each indiv. submits new quanity\n",
    "> Repeat\n",
    "\n",
    "### Market rules\n",
    "$$P(Q) = 600 - Q $$\n",
    "$$Q = \\sum q_i $$\n",
    "* All players are homogeneous hence : cost = 0\n",
    "\n",
    "### Production design\n",
    "* Random pick between \n",
    "*With n : number of firms*\n",
    "$$Q \\in ]0;5*IntegePart(120/n]$$\n",
    "* Produce between 0 and a max capacity \n",
    "* All firms have identical production\n",
    "* Set of individual bid is discrete : \n",
    "    * Can only take values such as 5-units increments : \n",
    "    * We have a bid index link to a quantity produced\n",
    "    * 5,10 ... K-5, K with K=5\n",
    "    * Set of S \n",
    "    * Uniform probability\n",
    "    \n",
    "![Auction_table](table_auction.png)\n",
    "\n",
    "\n",
    "\n",
    "## Functions\n",
    "\n",
    "#### Reinforcement\n",
    "\n",
    "![reinforcement](reinforcement.png)"
   ]
  },
  {
   "cell_type": "markdown",
   "id": "da7b3419",
   "metadata": {},
   "source": [
    "## Import packages"
   ]
  },
  {
   "cell_type": "code",
   "execution_count": 1,
   "id": "0fc52b3d",
   "metadata": {},
   "outputs": [],
   "source": [
    "import numpy as np\n",
    "import matplotlib.pyplot as plt\n",
    "import pandas as pd"
   ]
  },
  {
   "cell_type": "markdown",
   "id": "6239b269",
   "metadata": {},
   "source": [
    "## Data structure\n",
    "\n",
    "### We are going to have : \n",
    "* With : p = periods \n",
    "* With : n = number of firms\n",
    "* With : s = number of bids possibilities - depending of E(120/n)\n",
    "\n",
    "#### A)  Bid matrix :\n",
    "* A matrix : p rows & n columns (p,n)\n",
    "    * bid(p,n) = Bid of firm n at period p\n",
    "\n",
    "#### B)  Profit matrix:\n",
    "* A matrix : p rows & n columns (p,n)\n",
    "    * profit(p,n) = Profit of firm n at period p\n",
    "\n",
    "\n",
    "#### C)  Propensions matrix:\n",
    "* A matrix : s rows & n columns (s,n)\n",
    "    * prop(s,n) = Propensions of bid s for firm n\n",
    "\n",
    "\n",
    "## Build framework\n",
    "\n",
    "![consignes](consignes.png)\n"
   ]
  },
  {
   "cell_type": "code",
   "execution_count": 2,
   "id": "5d2db7dd",
   "metadata": {},
   "outputs": [],
   "source": [
    "from numba import njit,prange"
   ]
  },
  {
   "cell_type": "code",
   "execution_count": 174,
   "id": "302ab6e9",
   "metadata": {},
   "outputs": [],
   "source": [
    "@njit\n",
    "def propensions_reinforcement_part1(s_bid,propension,profit,lambda_,delta,gamma):\n",
    "    \"\"\"Reinforcing s_bid : \n",
    "    Args :\n",
    "        s_bid (int): s_bid value\n",
    "        propension (float) : propension of s_bid\n",
    "        profit (float) : profit at period p\n",
    "        lambda_ (int) : s_bid picked at period p\n",
    "        gamma (float) : forget rate \n",
    "        delta (flaot) : propension increaser\n",
    "    Returns:\n",
    "        new_propension (float): reinforced propension\n",
    "        \"\"\"\n",
    "    # First step : comparison between previously picked s_bid \n",
    "    # and current s_bid\n",
    "    # Tricking thing on the bound\n",
    "    if s_bid==lambda_:\n",
    "        new_propension = (1-gamma)*propension+profit\n",
    "    elif s_bid == lambda_-1 or s_bid == lambda_ +1:\n",
    "        new_propension = (1-gamma)*propension+profit*(1-delta)\n",
    "    else:\n",
    "        new_propension = (1-gamma)*propension\n",
    "    return new_propension"
   ]
  },
  {
   "cell_type": "code",
   "execution_count": 175,
   "id": "7e17b932",
   "metadata": {},
   "outputs": [
    {
     "data": {
      "text/plain": [
       "11.0"
      ]
     },
     "execution_count": 175,
     "metadata": {},
     "output_type": "execute_result"
    }
   ],
   "source": [
    "propensions_reinforcement_part1(s_bid=1,propension=2,profit=10,\n",
    "                                lambda_=1,delta=0.5,gamma=0.5) # Compile numba function"
   ]
  },
  {
   "cell_type": "code",
   "execution_count": 8,
   "id": "5943c0ef",
   "metadata": {},
   "outputs": [],
   "source": [
    "@njit\n",
    "def rand_choice_nb(arr, prob):\n",
    "    \"\"\"Alternative for np.random.choice \n",
    "       suitable for numba\"\"\"\n",
    "    return arr[np.searchsorted(np.cumsum(prob), np.random.random(), side=\"right\")]"
   ]
  },
  {
   "cell_type": "code",
   "execution_count": 9,
   "id": "f47f65ec",
   "metadata": {},
   "outputs": [
    {
     "data": {
      "text/plain": [
       "1"
      ]
     },
     "execution_count": 9,
     "metadata": {},
     "output_type": "execute_result"
    }
   ],
   "source": [
    "rand_choice_nb(np.array([0,1]), np.array([.5,.5])) # Compile numba function"
   ]
  },
  {
   "cell_type": "code",
   "execution_count": 176,
   "id": "20903fec",
   "metadata": {},
   "outputs": [],
   "source": [
    "@njit(parallel=False)\n",
    "def numba_cournot_framework(n_firms, p_periods,initial_propension=90000,delta=0.3,mu=0.002,gamma=0.01,total_demand=600):\n",
    "    \"\"\"Cournot framework\n",
    "    Args :\n",
    "        n_firms (int): Number of firms \n",
    "        p_periods (int): Number of simulation periods\n",
    "        initial_propension (float) : initial_propension for each value\n",
    "        mu (float) : extinction in finite time\n",
    "        gamma (float) : forget rate \n",
    "        delta (flaot) : propension increaser\n",
    "        total_demand (int): total demand of market\n",
    "    Returns : \n",
    "        bid_mat (np.matrix): Matrix of bid for each firm at each period\n",
    "        profit_mat (np.matrix): Matrix of profit for each firm at each period\n",
    "        prop_mat (np.matrix) : Propension matrix for each bid for each firm for each period\n",
    "        price_vec (np.array) : Market price for each period\"\"\"\n",
    "    s_discrete = int((120/n_firms)//1) #Integer part of 120/n\n",
    "    bid_mat = np.zeros((p_periods,n_firms)) # Bid matrix\n",
    "    profit_mat = np.zeros((p_periods,n_firms)) # Profit matrix\n",
    "    prop_mat = np.zeros((s_discrete,n_firms,p_periods)) # Propensions matrix\n",
    "    prop_mat[:,:,0] = initial_propension\n",
    "    secrete_bids = np.arange(1,s_discrete+1)\n",
    "    bid_possibilities = np.arange(1,s_discrete+1)*5\n",
    "    price_vec = np.zeros(p_periods)\n",
    "    for period in range(p_periods):\n",
    "        prob_mat = prop_mat[:,:,period]/np.sum(prop_mat[:,:,period],axis=0) #probability matrix\n",
    "        for firm in prange(n_firms):\n",
    "            ### Across all firms\n",
    "            #bid_pick = np.random.choice(bid_possibilities,p=prob_mat[:,firm])\n",
    "            # We use compiled function with numba\n",
    "            bid_pick = rand_choice_nb(bid_possibilities, prob=prob_mat[:,firm])\n",
    "            bid_mat[period,firm] = bid_pick\n",
    "        # Once bid are made we can compute price\n",
    "        market_price = total_demand-np.sum(bid_mat[period,:])\n",
    "        price_vec[period] = market_price\n",
    "        profit_mat[period,:] = market_price*bid_mat[period,:]\n",
    "        # Need to recompute propensions for next iterations\n",
    "        for firm in range(n_firms):\n",
    "            lambda_ = bid_mat[period,firm]/5\n",
    "            profit = profit_mat[period,firm]\n",
    "            for s_bid in range(s_discrete):\n",
    "                # Loop bound  reinforcement\n",
    "                # Part 1 of reinforcement :\n",
    "                # Current propension for this period\n",
    "                propension = prop_mat[s_bid,firm,period]\n",
    "                new_propension = propensions_reinforcement_part1(s_bid+1,propension,\n",
    "                                                                 profit,lambda_,delta,gamma)\n",
    "                # Set propension for next period\n",
    "                if period + 1 < p_periods:\n",
    "                    ## Do not outbound\n",
    "                    prop_mat[s_bid,firm,period+1] = new_propension\n",
    "            # Second part : adjust regarding mu\n",
    "            if period + 1 < p_periods:\n",
    "                ## Do not outbound\n",
    "                propension_vec = prop_mat[:,firm,period+1]\n",
    "                propension_vec_mu_filter = (propension_vec/np.sum(propension_vec))>mu\n",
    "                prop_mat[:,firm,period+1] = propension_vec*propension_vec_mu_filter\n",
    "    return (bid_mat,profit_mat,prop_mat,prob_mat,price_vec)"
   ]
  },
  {
   "cell_type": "markdown",
   "id": "b07f47fa",
   "metadata": {},
   "source": [
    "### Erreur : matrice propension & comparaison avec lambda"
   ]
  },
  {
   "cell_type": "code",
   "execution_count": 11,
   "id": "210d7825",
   "metadata": {},
   "outputs": [],
   "source": [
    "def plot_results(n_firm,price_vec,color,avg=False,window=20):\n",
    "    dic = {1:\"Monopoly\",2:\"Duopoly\",3:\"Triopoly\"}\n",
    "    if n_firm in dic:\n",
    "            t = dic[n_firm]\n",
    "    else:\n",
    "        t = f'{n_firm}-opoly'\n",
    "    plt.figure(figsize=(10,5))\n",
    "    plt.xlabel(\"P periods\")\n",
    "    plt.ylabel(\"Market price\")\n",
    "    if avg:\n",
    "        price_vec = pd.Series(price_vec).rolling(window).mean()\n",
    "        plt.plot(range(len(price_vec)),price_vec,c=color)\n",
    "        \n",
    "        plt.title(f\"Simulation of market price with a {t} - {window} Moving Average\")\n",
    "    else:\n",
    "        plt.plot(range(len(price_vec)),price_vec,c=color)\n",
    "        plt.title(f\"Simulation of market price with a {t}\")\n",
    "    plt.axhline(600/(n_firm+1),color=\"green\",label=\"Theoretical value\")\n",
    "    plt.legend()\n",
    "    plt.show()"
   ]
  },
  {
   "cell_type": "code",
   "execution_count": 437,
   "id": "da28abd2",
   "metadata": {},
   "outputs": [],
   "source": [
    "n_ = 4"
   ]
  },
  {
   "cell_type": "code",
   "execution_count": 446,
   "id": "c035df7c",
   "metadata": {},
   "outputs": [
    {
     "data": {
      "image/png": "[encoded data removed]",
      "text/plain": [
       "<Figure size 720x360 with 1 Axes>"
      ]
     },
     "metadata": {
      "needs_background": "light"
     },
     "output_type": "display_data"
    },
    {
     "name": "stdout",
     "output_type": "stream",
     "text": [
      "CPU times: user 196 ms, sys: 4.03 ms, total: 201 ms\n",
      "Wall time: 200 ms\n"
     ]
    }
   ],
   "source": [
    "%%time\n",
    "bid_mat,profit_mat,prop_mat,prob_mat,price_vec = numba_cournot_framework(n_firms =n_,p_periods =5000,\n",
    "                                                                        delta=0.3,mu=0.002,gamma=0.01)\n",
    "plot_results(n_,price_vec,color=\"red\",avg=False,window=2000)"
   ]
  },
  {
   "cell_type": "markdown",
   "id": "069e7f2d",
   "metadata": {},
   "source": [
    "## Multi cournot"
   ]
  },
  {
   "cell_type": "code",
   "execution_count": 230,
   "id": "c07f55fe",
   "metadata": {},
   "outputs": [],
   "source": [
    "@njit(parallel=True)\n",
    "def multi_cournot_mult_struct(n_struct,p_periods,n_sample,initial_propension=90000,delta=0.3,mu=0.002,gamma=0.01,total_demand=600):\n",
    "    prices = np.zeros((2000,n_struct,n_sample))\n",
    "    for n_firm in prange(n_struct):\n",
    "        for sample in prange(n_sample):\n",
    "                price_vec = numba_cournot_framework(n_firms = n_firm+1,p_periods =p_periods)[-1]\n",
    "                ### Need to compute MA 200\n",
    "                #series_price_vec = pd.Series(price_vec).rolling(200).mean()\n",
    "                prices[:,n_firm,sample] = price_vec[:]\n",
    "    return prices\n",
    "@njit(parallel=True)\n",
    "def multi_cournot_one_struct(struct,p_periods,n_sample,initial_propension=90000,delta=0.3,mu=0.002,gamma=0.01,total_demand=600):\n",
    "    prices = np.zeros((2000,n_sample))\n",
    "    for sample in prange(n_sample):\n",
    "        price_vec = numba_cournot_framework(n_firms = struct,p_periods =p_periods)[-1]\n",
    "        ### Need to compute MA 200\n",
    "        #series_price_vec = pd.Series(price_vec).rolling(200).mean()\n",
    "        prices[:,sample] = price_vec[:]\n",
    "    return prices"
   ]
  },
  {
   "cell_type": "code",
   "execution_count": 240,
   "id": "195605e3",
   "metadata": {},
   "outputs": [
    {
     "name": "stdout",
     "output_type": "stream",
     "text": [
      "CPU times: user 2min 27s, sys: 118 ms, total: 2min 27s\n",
      "Wall time: 38.1 s\n"
     ]
    }
   ],
   "source": [
    "%%time\n",
    "prices = multi_cournot_one_struct(struct=2,p_periods=2000,n_sample=10000)"
   ]
  },
  {
   "cell_type": "code",
   "execution_count": 241,
   "id": "1f0864da",
   "metadata": {},
   "outputs": [],
   "source": [
    "c = pd.DataFrame(prices).rolling(200).mean().T"
   ]
  },
  {
   "cell_type": "code",
   "execution_count": 350,
   "id": "fd367ffa",
   "metadata": {},
   "outputs": [
    {
     "data": {
      "image/png": "[encoded data removed]",
      "text/plain": [
       "<Figure size 432x288 with 1 Axes>"
      ]
     },
     "metadata": {
      "needs_background": "light"
     },
     "output_type": "display_data"
    }
   ],
   "source": [
    "for i in range(len(c)):\n",
    "    plt.plot(range(2000),c.iloc[i,:],color=\"k\")\n",
    "plt.axhline(200,c=\"green\")\n",
    "plt.show()"
   ]
  },
  {
   "cell_type": "code",
   "execution_count": 414,
   "id": "7123f68e",
   "metadata": {},
   "outputs": [
    {
     "data": {
      "text/plain": [
       "214.145"
      ]
     },
     "execution_count": 414,
     "metadata": {},
     "output_type": "execute_result"
    }
   ],
   "source": [
    "np.mean(prices[1000:,0])"
   ]
  },
  {
   "cell_type": "code",
   "execution_count": 417,
   "id": "e7165399",
   "metadata": {
    "scrolled": true
   },
   "outputs": [
    {
     "data": {
      "text/plain": [
       "<AxesSubplot:>"
      ]
     },
     "execution_count": 417,
     "metadata": {},
     "output_type": "execute_result"
    },
    {
     "data": {
      "image/png": "[encoded data removed]",
      "text/plain": [
       "<Figure size 432x288 with 1 Axes>"
      ]
     },
     "metadata": {
      "needs_background": "light"
     },
     "output_type": "display_data"
    }
   ],
   "source": [
    "pd.DataFrame(prices).iloc[1000:].mean().hist()"
   ]
  },
  {
   "cell_type": "code",
   "execution_count": 433,
   "id": "1b530892",
   "metadata": {
    "scrolled": true
   },
   "outputs": [
    {
     "data": {
      "text/plain": [
       "count    1000.000000\n",
       "mean       85.142505\n",
       "std         9.067923\n",
       "min        50.600000\n",
       "25%        78.958750\n",
       "50%        85.092500\n",
       "75%        90.958750\n",
       "max       111.585000\n",
       "dtype: float64"
      ]
     },
     "execution_count": 433,
     "metadata": {},
     "output_type": "execute_result"
    }
   ],
   "source": [
    "pd.DataFrame(prices[:,2,:]).iloc[1000:].mean().describe()"
   ]
  },
  {
   "cell_type": "code",
   "execution_count": 322,
   "id": "c39c5552",
   "metadata": {},
   "outputs": [],
   "source": [
    "def cournot_framework(n_firms, p_periods,initial_propension=90000,delta=0.3,mu=0.002,gamma=0.01,total_demand=600):\n",
    "    \"\"\"Cournot framework\n",
    "    Args :\n",
    "        n_firms (int): Number of firms \n",
    "        p_periods (int): Number of simulation periods\n",
    "        initial_propension (float) : initial_propension for each value\n",
    "        mu (float) : extinction in finite time\n",
    "        gamma (float) : forget rate \n",
    "        delta (flaot) : propension increaser\n",
    "        total_demand (int): total demand of market\n",
    "    Returns : \n",
    "        bid_mat (np.matrix): Matrix of bid for each firm at each period\n",
    "        profit_mat (np.matrix): Matrix of profit for each firm at each period\n",
    "        prop_mat (np.matrix) : Propension matrix for each bid for each firm for each period\n",
    "        price_vec (np.array) : Market price for each period\"\"\"\n",
    "    s_discrete = int((120/n_firms)//1) #Integer part of 120/n\n",
    "    bid_mat = np.zeros((p_periods,n_firms)) # Bid matrix\n",
    "    profit_mat = np.zeros((p_periods,n_firms)) # Profit matrix\n",
    "    prop_mat = np.ones((s_discrete,n_firms,p_periods))*initial_propension # Propensions matrix\n",
    "    bid_possibilities = np.arange(1,s_discrete+1)*5\n",
    "    price_vec = np.zeros(p_periods)\n",
    "    for period in range(p_periods):\n",
    "        prob_mat = prop_mat[:,:,period]/sum(prop_mat[:,:,period]) #probability matrix\n",
    "        for firm in range(n_firms):\n",
    "            ### Across all firms\n",
    "            bid_pick = np.random.choice(bid_possibilities,p=prob_mat[:,firm])\n",
    "            bid_mat[period,firm] = bid_pick\n",
    "        # Once bid are made we can compute price\n",
    "        market_price = total_demand-sum(bid_mat[period,:])\n",
    "        price_vec[period] = market_price\n",
    "        profit_mat[period,:] = market_price*bid_mat[period,:]\n",
    "        # Need to recompute propensions for next iterations\n",
    "        for firm in range(n_firms):\n",
    "            lambda_ = bid_mat[period,firm]/5\n",
    "            profit = profit_mat[period,firm]\n",
    "            for s_bid in range(s_discrete):\n",
    "                # Part 1 of reinforcement :\n",
    "                # Current propension for this period\n",
    "                propension = prop_mat[s_bid,firm,period]\n",
    "                new_propension = propensions_reinforcement_part1(s_bid,propension,profit,lambda_,delta,gamma)\n",
    "                # Set propension for next period\n",
    "                if period + 1 < p_periods:\n",
    "                    ## Do not outbound\n",
    "                    prop_mat[s_bid,firm,period+1] = new_propension\n",
    "            # Second part : adjust regarding mu\n",
    "            if period + 1 < p_periods:\n",
    "                ## Do not outbound\n",
    "                propension_vec = prop_mat[:,firm,period+1]\n",
    "                propension_vec_mu_filter = (propension_vec/sum(propension_vec))>mu\n",
    "                prop_mat[:,firm,period+1] = propension_vec*propension_vec_mu_filter\n",
    "    return (bid_mat,profit_mat,prop_mat,prob_mat,price_vec)"
   ]
  }
 ],
 "metadata": {
  "kernelspec": {
   "display_name": "Python 3",
   "language": "python",
   "name": "python3"
  },
  "language_info": {
   "codemirror_mode": {
    "name": "ipython",
    "version": 3
   },
   "file_extension": ".py",
   "mimetype": "text/x-python",
   "name": "python",
   "nbconvert_exporter": "python",
   "pygments_lexer": "ipython3",
   "version": "3.7.9"
  }
 },
 "nbformat": 4,
 "nbformat_minor": 5
}
