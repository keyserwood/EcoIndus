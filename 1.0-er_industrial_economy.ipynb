{
 "cells": [
  {
   "cell_type": "markdown",
   "id": "93f8ae0c",
   "metadata": {},
   "source": [
    "# Industrial economy\n",
    "\n",
    "## Aim of work : \n",
    "* Compare classic Cournot oligopoly equilibrium with results obtained with a simple iterative process where players evolve their optimal strategies\n",
    "* Different market concentration [monopoly, duopoly, triopoly]\n",
    "* One sided auction : \n",
    "    1. Each indiv. firm selects its outpout\n",
    "    2. Simultaneous offer of quantities to the market\n",
    "    3. Compute a uniform price for all of these quantities\n",
    "    4. Each indiv. compute its profits\n",
    "    5. Thanks to profit each indiv. submits new quanity\n",
    "> Repeat\n",
    "\n",
    "### Market rules\n",
    "$$P(Q) = 600 - Q $$\n",
    "$$Q = \\sum q_i $$\n",
    "* All players are homogeneous hence : cost = 0\n",
    "\n",
    "### Production design\n",
    "* Random pick between \n",
    "*With n : number of firms*\n",
    "$$Q \\in ]0;5*IntegePart(120/n]$$\n",
    "* Produce between 0 and a max capacity \n",
    "* All firms have identical production\n",
    "* Set of individual bid is discrete : \n",
    "    * Can only take values such as 5-units increments : \n",
    "    * We have a bid index link to a quantity produced\n",
    "    * 5,10 ... K-5, K with K=5\n",
    "    * Set of S \n",
    "    * Uniform probability\n",
    "    \n",
    "![Auction_table](table_auction.png)"
   ]
  },
  {
   "cell_type": "markdown",
   "id": "c4c3eb54",
   "metadata": {},
   "source": [
    "### Load packages"
   ]
  },
  {
   "cell_type": "code",
   "execution_count": 1,
   "id": "f84d2546",
   "metadata": {},
   "outputs": [],
   "source": [
    "import numpy as np"
   ]
  },
  {
   "cell_type": "markdown",
   "id": "396316cd",
   "metadata": {},
   "source": [
    "## Data structure\n",
    "\n",
    "### We are going to have : \n",
    "* With : p = periods \n",
    "* With : n = number of firms\n",
    "* With : s = number of bids possibilities - depending of E(120/n)\n",
    "\n",
    "#### A)  Bid matrix :\n",
    "* A matrix : p rows & n columns (p,n)\n",
    "    * bid(p,n) = Bid of firm n at period p\n",
    "\n",
    "#### B)  Profit matrix:\n",
    "* A matrix : p rows & n columns (p,n)\n",
    "    * profit(p,n) = Profit of firm n at period p\n",
    "\n",
    "\n",
    "#### C)  Propensions matrix:\n",
    "* A matrix : s rows & n columns (s,n)\n",
    "    * prop(s,n) = Propensions of bid s for firm n\n"
   ]
  },
  {
   "cell_type": "code",
   "execution_count": 6,
   "id": "8d6dc11d",
   "metadata": {},
   "outputs": [],
   "source": [
    "n= 10 # number of firms\n",
    "p = 1000 # number of periods\n",
    "s = int((120/n)//1)\n",
    "bid_mat = np.zeros((n,p)) # Bid matrix\n",
    "profit_mat = np.zeros((n,p)) # Profit matrix\n",
    "prop_mat = np.zeros((s,p)) # Propensions matrix"
   ]
  },
  {
   "cell_type": "markdown",
   "id": "53241a96",
   "metadata": {},
   "source": [
    "## Build framework\n",
    "\n",
    "![consignes](consignes.png)\n"
   ]
  },
  {
   "cell_type": "code",
   "execution_count": null,
   "id": "489e86fb",
   "metadata": {},
   "outputs": [],
   "source": [
    "cournot_framework()"
   ]
  },
  {
   "cell_type": "code",
   "execution_count": 53,
   "id": "2929ca52",
   "metadata": {},
   "outputs": [
    {
     "name": "stdout",
     "output_type": "stream",
     "text": [
      "CPU times: user 55.5 ms, sys: 0 ns, total: 55.5 ms\n",
      "Wall time: 55.1 ms\n"
     ]
    }
   ],
   "source": [
    "%%time\n",
    "res = cournot_framework(3,200)"
   ]
  },
  {
   "cell_type": "code",
   "execution_count": 57,
   "id": "5339ffe5",
   "metadata": {},
   "outputs": [],
   "source": [
    "import matplotlib.pyplot as plt"
   ]
  },
  {
   "cell_type": "code",
   "execution_count": 64,
   "id": "60038c50",
   "metadata": {},
   "outputs": [],
   "source": [
    "def cournot_framework(n_firms, p_periods,initial_propension=90000,delta=0.3,mu=0.002,gamma=0.01,total_demand=600):\n",
    "    \"\"\"Cournot framework\n",
    "    Args :\n",
    "        n_firms (int): Number of firms \n",
    "        p_periods (int): Number of simulation periods\n",
    "        initial_propension (float) : initial_propension for each value\n",
    "        mu (float) : extinction in finite time\n",
    "        gamma (float) : forget rate \n",
    "        delta (flaot) : propension increaser\n",
    "        total_demand (int): total demand of market\n",
    "    Returns : \n",
    "        bid_mat (np.matrix): Matrix of bid for each firm at each period\n",
    "        profit_mat (np.matrix): Matrix of profit for each firm at each period\n",
    "        prop_mat (np.matrix) : Propension matrix for each bid for each firm\n",
    "        price_vec (np.array) : Market price for each period\"\"\"\n",
    "    s_discrete = int((120/n)//1) #Integer part of 120/n\n",
    "    bid_mat = np.zeros((p_periods,n_firms)) # Bid matrix\n",
    "    profit_mat = np.zeros((p_periods,n_firms)) # Profit matrix\n",
    "    prop_mat = np.ones((s_discrete,n_firms))*initial_propension # Propensions matrix\n",
    "    bid_possibilities = np.arange(1,s_discrete+1)*5\n",
    "    price_vec = np.zeros(p_periods)\n",
    "    for period in range(p_periods):\n",
    "        prob_mat = prop_mat/sum(prop_mat) #probability matrix\n",
    "        for firm in range(n_firms):\n",
    "            ### Across all firms\n",
    "            bid_pick = np.random.choice(bid_possibilities,p=prob_mat[:,firm])\n",
    "            bid_mat[period,firm] = bid_pick\n",
    "        # Once bid are made we can compute price\n",
    "        market_price = total_demand-sum(bid_mat[period,:])\n",
    "        price_vec[period] = market_price\n",
    "        profit_mat[period,:] = market_price*bid_mat[period,:]\n",
    "        # Need to recompute propensions for next iterations\n",
    "        for firm in range(n_firms):\n",
    "            for s_bid in range(s_discrete):\n",
    "                # Part 1 of reinforcement :\n",
    "                lambda_ = bid_mat[period,firm]\n",
    "                propension = prop_mat[s_bid,firm]\n",
    "                profit = profit_mat[period,firm]\n",
    "                new_propension = propensions_reinforcement_part1(s_bid,propension,profit,lambda_,delta,gamma)\n",
    "                prop_mat[s_bid,firm] = new_propension\n",
    "            # Second part : adjust regarding mu\n",
    "            propension_vec = prop_mat[:,firm]\n",
    "            propension_vec_mu_filter = (propension_vec/sum(propension_vec))>mu\n",
    "            prop_mat[:,firm] = propension_vec*propension_vec_mu_filter\n",
    "    return (bid_mat,profit_mat,prop_mat,price_vec)"
   ]
  },
  {
   "cell_type": "markdown",
   "id": "e32bb2e0",
   "metadata": {},
   "source": [
    "\n",
    "## Functions\n",
    "\n",
    "#### Reinforcement\n",
    "\n",
    "![reinforcement](reinforcement.png)"
   ]
  },
  {
   "cell_type": "code",
   "execution_count": 17,
   "id": "512a9725",
   "metadata": {},
   "outputs": [],
   "source": [
    "x = np.array([1,2,4,5])"
   ]
  },
  {
   "cell_type": "code",
   "execution_count": 22,
   "id": "88cc4cb1",
   "metadata": {},
   "outputs": [
    {
     "data": {
      "text/plain": [
       "array([0, 2, 4, 5])"
      ]
     },
     "execution_count": 22,
     "metadata": {},
     "output_type": "execute_result"
    }
   ],
   "source": [
    "(x/sum(x)>0.1)*x"
   ]
  },
  {
   "cell_type": "code",
   "execution_count": 15,
   "id": "204b29bf",
   "metadata": {},
   "outputs": [
    {
     "data": {
      "text/plain": [
       "array([False,  True,  True,  True])"
      ]
     },
     "execution_count": 15,
     "metadata": {},
     "output_type": "execute_result"
    }
   ],
   "source": [
    "np.array[/"
   ]
  },
  {
   "cell_type": "code",
   "execution_count": 42,
   "id": "d5992ccd",
   "metadata": {},
   "outputs": [],
   "source": [
    "def propensions_reinforcement_part1(bid,propension,profit,lambda_,delta,gamma):\n",
    "    \"\"\"Reinforcing bid : \n",
    "    Args :\n",
    "        bid (int): bid value\n",
    "        propension (float) : propension of bid\n",
    "        profit (float) : profit at period p\n",
    "        lambda_ (int) : bid picked at period p\n",
    "        gamma (float) : forget rate \n",
    "        delta (flaot) : propension increaser\n",
    "    Returns:\n",
    "        new_propension (float): reinforced propension\n",
    "        \"\"\"\n",
    "    # First step : comparison between previously picked bid \n",
    "    # and current bid\n",
    "    new_propension = 0\n",
    "    if bid==lambda_:\n",
    "        new_propension = (1-gamma)*propension+profit\n",
    "    elif bid == lambda_-1 or bid == lambda_ +1:\n",
    "        new_propension = (1-gamma)*propension+profit*(1-delta)\n",
    "    else:\n",
    "        new_propension = (1-gamma)*propension\n",
    "    return new_propension"
   ]
  }
 ],
 "metadata": {
  "kernelspec": {
   "display_name": "Python 3",
   "language": "python",
   "name": "python3"
  },
  "language_info": {
   "codemirror_mode": {
    "name": "ipython",
    "version": 3
   },
   "file_extension": ".py",
   "mimetype": "text/x-python",
   "name": "python",
   "nbconvert_exporter": "python",
   "pygments_lexer": "ipython3",
   "version": "3.7.9"
  }
 },
 "nbformat": 4,
 "nbformat_minor": 5
}
