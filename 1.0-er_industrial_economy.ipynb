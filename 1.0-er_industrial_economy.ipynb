{
 "cells": [
  {
   "cell_type": "markdown",
   "id": "5d9a6a7d",
   "metadata": {},
   "source": [
    "# Industrial economy\n",
    "\n",
    "## Aim of work : \n",
    "* Compare classic Cournot oligopoly equilibrium with results obtained with a simple iterative process where players evolve their optimal strategies\n",
    "* Different market concentration [monopoly, duopoly, triopoly]\n",
    "* One sided auction : \n",
    "    1. Each indiv. firm selects its outpout\n",
    "    2. Simultaneous offer of quantities to the market\n",
    "    3. Compute a uniform price for all of these quantities\n",
    "    4. Each indiv. compute its profits\n",
    "    5. Thanks to profit each indiv. submits new quanity\n",
    "> Repeat\n",
    "\n",
    "### Market rules\n",
    "$$P(Q) = 600 - Q $$\n",
    "$$Q = \\sum q_i $$\n",
    "* All players are homogeneous hence : cost = 0\n",
    "\n",
    "### Production design\n",
    "* Random pick between \n",
    "*With n : number of firms*\n",
    "$$Q \\in ]0;5*IntegePart(120/n]$$\n",
    "* Produce between 0 and a max capacity \n",
    "* All firms have identical production\n",
    "* Set of individual bid is discrete : \n",
    "    * Can only take values such as 5-units increments : \n",
    "    * We have a bid index link to a quantity produced\n",
    "    * 5,10 ... K-5, K with K=5\n",
    "    * Set of S \n",
    "    * Uniform probability\n",
    "    \n",
    "![Auction_table](table_auction.png)"
   ]
  },
  {
   "cell_type": "markdown",
   "id": "868e06da",
   "metadata": {},
   "source": [
    "### Load packages"
   ]
  },
  {
   "cell_type": "code",
   "execution_count": 1,
   "id": "a06d41c5",
   "metadata": {},
   "outputs": [],
   "source": [
    "import numpy as np"
   ]
  },
  {
   "cell_type": "markdown",
   "id": "5ecbc69e",
   "metadata": {},
   "source": [
    "## Data structure\n",
    "\n",
    "### We are going to have : \n",
    "* With : p = periods \n",
    "* With : n = number of firms\n",
    "* With : s = number of bids possibilities - depending of E(120/n)\n",
    "\n",
    "#### A)  Bid matrix :\n",
    "* A matrix : p rows & n columns (p,n)\n",
    "    * bid(p,n) = Bid of firm n at period p\n",
    "\n",
    "#### B)  Profit matrix:\n",
    "* A matrix : p rows & n columns (p,n)\n",
    "    * profit(p,n) = Profit of firm n at period p\n",
    "\n",
    "\n",
    "#### C)  Propensions matrix:\n",
    "* A matrix : s rows & n columns (s,n)\n",
    "    * prop(s,n) = Propensions of bid s for firm n\n"
   ]
  },
  {
   "cell_type": "code",
   "execution_count": 6,
   "id": "543847b5",
   "metadata": {},
   "outputs": [],
   "source": [
    "n= 10 # number of firms\n",
    "p = 1000 # number of periods\n",
    "s = int((120/n)//1)\n",
    "bid_mat = np.zeros((n,p)) # Bid matrix\n",
    "profit_mat = np.zeros((n,p)) # Profit matrix\n",
    "prop_mat = np.zeros((s,p)) # Propensions matrix"
   ]
  },
  {
   "cell_type": "markdown",
   "id": "e4ad37ea",
   "metadata": {},
   "source": [
    "## Build framework\n",
    "\n",
    "![consignes](consignes.png)\n"
   ]
  },
  {
   "cell_type": "code",
   "execution_count": 12,
   "id": "05c7d9ee",
   "metadata": {},
   "outputs": [
    {
     "data": {
      "text/plain": [
       "array([[10., 10.]])"
      ]
     },
     "execution_count": 12,
     "metadata": {},
     "output_type": "execute_result"
    }
   ],
   "source": [
    "np.ones((1,2))*10"
   ]
  },
  {
   "cell_type": "code",
   "execution_count": 10,
   "id": "65a7e232",
   "metadata": {},
   "outputs": [],
   "source": [
    "def cournot_framework(n_firms, p_periods,initial_propension=90000,delta=0.3,mu=0.002,gamma=0.01):\n",
    "    \"\"\"Cournot framework\"\"\"\n",
    "    s_discrete = int((120/n)//1) #Integer part of 120/n\n",
    "    bid_mat = np.zeros((n_firms,p_periods)) # Bid matrix\n",
    "    profit_mat = np.zeros((n_firms,p_periods)) # Profit matrix\n",
    "    prop_mat = np.ones((s_discrete,p_periods))*initial_propension # Propensions matrix\n",
    "    for period in range(p_periods):\n",
    "        # Fir"
   ]
  },
  {
   "cell_type": "markdown",
   "id": "5fffa62f",
   "metadata": {},
   "source": [
    "\n",
    "## Functions\n",
    "\n",
    "#### Reinforcement\n",
    "\n",
    "![reinforcement](reinforcement.png)"
   ]
  },
  {
   "cell_type": "code",
   "execution_count": 8,
   "id": "8090a9d8",
   "metadata": {},
   "outputs": [],
   "source": [
    "def propensions_reinforcement(bid,propension,profit,lambda_,gamma,delta):\n",
    "    \"\"\"Reinforcing bid : \n",
    "    Args :\n",
    "        bid (int): bid value\n",
    "        propension (float) : propension of bid\n",
    "        profit (float) : profit at period p\n",
    "        lambda_ (int) : bid picked at period p\n",
    "        gamma (float) : forget rate \n",
    "        delta (flaot) : propension increaser\n",
    "    Returns:\n",
    "        new_propension (float): reinforced propension\n",
    "        \"\"\"\n",
    "    new_propension = 0\n",
    "    if bid==lambda_:\n",
    "        new_propension = (1-gamma)*propension+profit\n",
    "    elif bid == lambda_-1 or bid == lambda_ +1:\n",
    "        new_propension = (1-gamma)*propension+profit*(1-delta)\n",
    "    else:\n",
    "        new_propension = (1-gamma)*propension\n",
    "    return new_propension"
   ]
  }
 ],
 "metadata": {
  "kernelspec": {
   "display_name": "Python 3",
   "language": "python",
   "name": "python3"
  },
  "language_info": {
   "codemirror_mode": {
    "name": "ipython",
    "version": 3
   },
   "file_extension": ".py",
   "mimetype": "text/x-python",
   "name": "python",
   "nbconvert_exporter": "python",
   "pygments_lexer": "ipython3",
   "version": "3.7.9"
  }
 },
 "nbformat": 4,
 "nbformat_minor": 5
}
