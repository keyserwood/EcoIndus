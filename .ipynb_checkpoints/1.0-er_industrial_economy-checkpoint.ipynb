{
 "cells": [
  {
   "cell_type": "markdown",
   "id": "d0e253c8",
   "metadata": {},
   "source": [
    "# Questions enoncés : \n",
    "\n",
    "* 20 or 50 ? \n",
    "* Price average ? Moving AVERAGE ? \n",
    "\n",
    "# Industrial economy\n",
    "\n",
    "## Aim of work : \n",
    "* Compare classic Cournot oligopoly equilibrium with results obtained with a simple iterative process where players evolve their optimal strategies\n",
    "* Different market concentration [monopoly, duopoly, triopoly]\n",
    "* One sided auction : \n",
    "    1. Each indiv. firm selects its outpout\n",
    "    2. Simultaneous offer of quantities to the market\n",
    "    3. Compute a uniform price for all of these quantities\n",
    "    4. Each indiv. compute its profits\n",
    "    5. Thanks to profit each indiv. submits new quanity\n",
    "> Repeat\n",
    "\n",
    "### Market rules\n",
    "$$P(Q) = 600 - Q $$\n",
    "$$Q = \\sum q_i $$\n",
    "* All players are homogeneous hence : cost = 0\n",
    "\n",
    "### Production design\n",
    "* Random pick between \n",
    "*With n : number of firms*\n",
    "$$Q \\in ]0;5*IntegePart(120/n]$$\n",
    "* Produce between 0 and a max capacity \n",
    "* All firms have identical production\n",
    "* Set of individual bid is discrete : \n",
    "    * Can only take values such as 5-units increments : \n",
    "    * We have a bid index link to a quantity produced\n",
    "    * 5,10 ... K-5, K with K=5\n",
    "    * Set of S \n",
    "    * Uniform probability\n",
    "    \n",
    "![Auction_table](table_auction.png)\n",
    "\n",
    "\n",
    "\n",
    "## Functions\n",
    "\n",
    "#### Reinforcement\n",
    "\n",
    "![reinforcement](reinforcement.png)"
   ]
  },
  {
   "cell_type": "code",
   "execution_count": 322,
   "id": "32bb4a03",
   "metadata": {},
   "outputs": [],
   "source": [
    "def cournot_framework(n_firms, p_periods,initial_propension=90000,delta=0.3,mu=0.002,gamma=0.01,total_demand=600):\n",
    "    \"\"\"Cournot framework\n",
    "    Args :\n",
    "        n_firms (int): Number of firms \n",
    "        p_periods (int): Number of simulation periods\n",
    "        initial_propension (float) : initial_propension for each value\n",
    "        mu (float) : extinction in finite time\n",
    "        gamma (float) : forget rate \n",
    "        delta (flaot) : propension increaser\n",
    "        total_demand (int): total demand of market\n",
    "    Returns : \n",
    "        bid_mat (np.matrix): Matrix of bid for each firm at each period\n",
    "        profit_mat (np.matrix): Matrix of profit for each firm at each period\n",
    "        prop_mat (np.matrix) : Propension matrix for each bid for each firm for each period\n",
    "        price_vec (np.array) : Market price for each period\"\"\"\n",
    "    s_discrete = int((120/n_firms)//1) #Integer part of 120/n\n",
    "    bid_mat = np.zeros((p_periods,n_firms)) # Bid matrix\n",
    "    profit_mat = np.zeros((p_periods,n_firms)) # Profit matrix\n",
    "    prop_mat = np.ones((s_discrete,n_firms,p_periods))*initial_propension # Propensions matrix\n",
    "    bid_possibilities = np.arange(1,s_discrete+1)*5\n",
    "    price_vec = np.zeros(p_periods)\n",
    "    for period in range(p_periods):\n",
    "        prob_mat = prop_mat[:,:,period]/sum(prop_mat[:,:,period]) #probability matrix\n",
    "        for firm in range(n_firms):\n",
    "            ### Across all firms\n",
    "            bid_pick = np.random.choice(bid_possibilities,p=prob_mat[:,firm])\n",
    "            bid_mat[period,firm] = bid_pick\n",
    "        # Once bid are made we can compute price\n",
    "        market_price = total_demand-sum(bid_mat[period,:])\n",
    "        price_vec[period] = market_price\n",
    "        profit_mat[period,:] = market_price*bid_mat[period,:]\n",
    "        # Need to recompute propensions for next iterations\n",
    "        for firm in range(n_firms):\n",
    "            lambda_ = bid_mat[period,firm]/5\n",
    "            profit = profit_mat[period,firm]\n",
    "            for s_bid in range(s_discrete):\n",
    "                # Part 1 of reinforcement :\n",
    "                # Current propension for this period\n",
    "                propension = prop_mat[s_bid,firm,period]\n",
    "                new_propension = propensions_reinforcement_part1(s_bid,propension,profit,lambda_,delta,gamma)\n",
    "                # Set propension for next period\n",
    "                if period + 1 < p_periods:\n",
    "                    ## Do not outbound\n",
    "                    prop_mat[s_bid,firm,period+1] = new_propension\n",
    "            # Second part : adjust regarding mu\n",
    "            if period + 1 < p_periods:\n",
    "                ## Do not outbound\n",
    "                propension_vec = prop_mat[:,firm,period+1]\n",
    "                propension_vec_mu_filter = (propension_vec/sum(propension_vec))>mu\n",
    "                prop_mat[:,firm,period+1] = propension_vec*propension_vec_mu_filter\n",
    "    return (bid_mat,profit_mat,prop_mat,prob_mat,price_vec)"
   ]
  },
  {
   "cell_type": "code",
   "execution_count": 6,
   "id": "0e9b516e",
   "metadata": {},
   "outputs": [],
   "source": [
    "def propensions_reinforcement_part1(bid,propension,profit,lambda_,delta,gamma):\n",
    "    \"\"\"Reinforcing bid : \n",
    "    Args :\n",
    "        bid (int): bid value\n",
    "        propension (float) : propension of bid\n",
    "        profit (float) : profit at period p\n",
    "        lambda_ (int) : bid picked at period p\n",
    "        gamma (float) : forget rate \n",
    "        delta (flaot) : propension increaser\n",
    "    Returns:\n",
    "        new_propension (float): reinforced propension\n",
    "        \"\"\"\n",
    "    # First step : comparison between previously picked bid \n",
    "    # and current bid\n",
    "    new_propension = 0\n",
    "    if bid==lambda_:\n",
    "        new_propension = (1-gamma)*propension+profit\n",
    "    elif bid == lambda_-1 or bid == lambda_ +1:\n",
    "        new_propension = (1-gamma)*propension+profit*(1-delta)\n",
    "    else:\n",
    "        new_propension = (1-gamma)*propension\n",
    "    return new_propension"
   ]
  },
  {
   "cell_type": "markdown",
   "id": "c8a4b8e6",
   "metadata": {},
   "source": [
    "## Import packages"
   ]
  },
  {
   "cell_type": "code",
   "execution_count": 1,
   "id": "6c54898d",
   "metadata": {},
   "outputs": [],
   "source": [
    "import numpy as np\n",
    "import matplotlib.pyplot as plt\n",
    "import pandas as pd"
   ]
  },
  {
   "cell_type": "markdown",
   "id": "9f298d4b",
   "metadata": {},
   "source": [
    "## Data structure\n",
    "\n",
    "### We are going to have : \n",
    "* With : p = periods \n",
    "* With : n = number of firms\n",
    "* With : s = number of bids possibilities - depending of E(120/n)\n",
    "\n",
    "#### A)  Bid matrix :\n",
    "* A matrix : p rows & n columns (p,n)\n",
    "    * bid(p,n) = Bid of firm n at period p\n",
    "\n",
    "#### B)  Profit matrix:\n",
    "* A matrix : p rows & n columns (p,n)\n",
    "    * profit(p,n) = Profit of firm n at period p\n",
    "\n",
    "\n",
    "#### C)  Propensions matrix:\n",
    "* A matrix : s rows & n columns (s,n)\n",
    "    * prop(s,n) = Propensions of bid s for firm n\n",
    "\n",
    "\n",
    "## Build framework\n",
    "\n",
    "![consignes](consignes.png)\n"
   ]
  },
  {
   "cell_type": "code",
   "execution_count": 333,
   "id": "65919220",
   "metadata": {},
   "outputs": [],
   "source": [
    "from numba import njit"
   ]
  },
  {
   "cell_type": "code",
   "execution_count": 356,
   "id": "f2179057",
   "metadata": {},
   "outputs": [],
   "source": [
    "@njit\n",
    "def numba_cournot_framework(n_firms, p_periods,initial_propension=90000,delta=0.3,mu=0.002,gamma=0.01,total_demand=600):\n",
    "    \"\"\"Cournot framework\n",
    "    Args :\n",
    "        n_firms (int): Number of firms \n",
    "        p_periods (int): Number of simulation periods\n",
    "        initial_propension (float) : initial_propension for each value\n",
    "        mu (float) : extinction in finite time\n",
    "        gamma (float) : forget rate \n",
    "        delta (flaot) : propension increaser\n",
    "        total_demand (int): total demand of market\n",
    "    Returns : \n",
    "        bid_mat (np.matrix): Matrix of bid for each firm at each period\n",
    "        profit_mat (np.matrix): Matrix of profit for each firm at each period\n",
    "        prop_mat (np.matrix) : Propension matrix for each bid for each firm for each period\n",
    "        price_vec (np.array) : Market price for each period\"\"\"\n",
    "    s_discrete = int((120/n_firms)//1) #Integer part of 120/n\n",
    "    bid_mat = np.zeros((p_periods,n_firms)) # Bid matrix\n",
    "    profit_mat = np.zeros((p_periods,n_firms)) # Profit matrix\n",
    "    prop_mat = np.ones((s_discrete,n_firms,p_periods))*initial_propension # Propensions matrix\n",
    "    bid_possibilities = np.arange(1,s_discrete+1)*5\n",
    "    price_vec = np.zeros(p_periods)\n",
    "    for period in range(p_periods):\n",
    "        prob_mat = prop_mat[:,:,period]/np.sum(prop_mat[:,:,period],axis=0) #probability matrix\n",
    "        for firm in range(n_firms):\n",
    "            ### Across all firms\n",
    "            #bid_pick = np.random.choice(bid_possibilities,p=prob_mat[:,firm])\n",
    "            bid_pick = rand_choice_nb(bid_possibilities, prob=prob_mat[:,firm])\n",
    "            arr = bid_possibilities.copy()\n",
    "            prob=prob_mat[:,firm].copy()\n",
    "            bid_pick = arr[np.searchsorted(np.cumsum(prob), np.random.random(), side=\"right\")]\n",
    "            bid_mat[period,firm] = bid_pick\n",
    "        # Once bid are made we can compute price\n",
    "        market_price = total_demand-np.sum(bid_mat[period,:])\n",
    "        price_vec[period] = market_price\n",
    "        profit_mat[period,:] = market_price*bid_mat[period,:]\n",
    "        # Need to recompute propensions for next iterations\n",
    "        for firm in range(n_firms):\n",
    "            lambda_ = bid_mat[period,firm]/5\n",
    "            profit = profit_mat[period,firm]\n",
    "            for s_bid in range(s_discrete):\n",
    "                # Part 1 of reinforcement :\n",
    "                # Current propension for this period\n",
    "                propension = prop_mat[s_bid,firm,period]\n",
    "#                new_propension = propensions_reinforcement_part1(s_bid,propension,profit,lambda_,delta,gamma)\n",
    "                new_propension = 0\n",
    "                if s_bid==lambda_:\n",
    "                    new_propension = (1-gamma)*propension+profit\n",
    "                elif s_bid == lambda_-1 or s_bid == lambda_ +1:\n",
    "                    new_propension = (1-gamma)*propension+profit*(1-delta)\n",
    "                else:\n",
    "                    new_propension = (1-gamma)*propension\n",
    "                # Set propension for next period\n",
    "                if period + 1 < p_periods:\n",
    "                    ## Do not outbound\n",
    "                    prop_mat[s_bid,firm,period+1] = new_propension\n",
    "            # Second part : adjust regarding mu\n",
    "            if period + 1 < p_periods:\n",
    "                ## Do not outbound\n",
    "                propension_vec = prop_mat[:,firm,period+1]\n",
    "                propension_vec_mu_filter = (propension_vec/np.sum(propension_vec))>mu\n",
    "                prop_mat[:,firm,period+1] = propension_vec*propension_vec_mu_filter\n",
    "    return (bid_mat,profit_mat,prop_mat,prob_mat,price_vec)"
   ]
  },
  {
   "cell_type": "code",
   "execution_count": 272,
   "id": "61753d47",
   "metadata": {},
   "outputs": [],
   "source": [
    "def plot_results(n_firm,price_vec,color,avg=False):\n",
    "    dic = {1:\"Monopoly\",2:\"Duopoly\",3:\"Triopoly\"}\n",
    "    plt.figure(figsize=(10,5))\n",
    "    plt.xlabel(\"P periods\")\n",
    "    plt.ylabel(\"Market price\")\n",
    "    if avg:\n",
    "        price_vec = pd.Series(price_vec).rolling(20).mean()\n",
    "        plt.plot(range(len(price_vec)),price_vec,c=color)\n",
    "        plt.title(f\"Simulation of market price with a {dic[n_firm]} - 200 Moving Average\")\n",
    "    else:\n",
    "        plt.plot(range(len(price_vec)),price_vec,c=color)\n",
    "        plt.title(f\"Simulation of market price with a {dic[n_firm]}\")\n",
    "    plt.axhline(600/(n_firm+1),color=\"green\",label=\"Theoretical value\")\n",
    "    plt.legend()\n",
    "    plt.show()"
   ]
  },
  {
   "cell_type": "code",
   "execution_count": 386,
   "id": "12684088",
   "metadata": {},
   "outputs": [],
   "source": [
    "n_ = 1"
   ]
  },
  {
   "cell_type": "code",
   "execution_count": 387,
   "id": "b9e9c0c2",
   "metadata": {},
   "outputs": [
    {
     "name": "stdout",
     "output_type": "stream",
     "text": [
      "CPU times: user 11.1 ms, sys: 100 µs, total: 11.2 ms\n",
      "Wall time: 11.1 ms\n"
     ]
    }
   ],
   "source": [
    "%%time\n",
    "bid_mat,profit_mat,prop_mat,prob_mat,price_vec = numba_cournot_framework(n_firms =n_,p_periods =2000)"
   ]
  },
  {
   "cell_type": "code",
   "execution_count": 391,
   "id": "25c6cc1d",
   "metadata": {},
   "outputs": [
    {
     "data": {
      "image/png": "[encoded data removed]",
      "text/plain": [
       "<Figure size 720x360 with 1 Axes>"
      ]
     },
     "metadata": {
      "needs_background": "light"
     },
     "output_type": "display_data"
    }
   ],
   "source": [
    "plot_results(n_,price_vec,color=\"red\",avg=True)"
   ]
  },
  {
   "cell_type": "markdown",
   "id": "330bab44",
   "metadata": {},
   "source": [
    "## Multi cournot"
   ]
  },
  {
   "cell_type": "code",
   "execution_count": 397,
   "id": "94bfa25d",
   "metadata": {},
   "outputs": [],
   "source": [
    "@njit(parallel=True)\n",
    "def multi_cournot(n_struct,p_periods,n_sample,initial_propension=90000,delta=0.3,mu=0.002,gamma=0.01,total_demand=600):\n",
    "    prices = np.zeros((2000,n_struct,n_sample))\n",
    "    for n_firm in range(n_struct):\n",
    "        for sample in range(n_sample):\n",
    "                price_vec = numba_cournot_framework(n_firms = n_firm+1,p_periods =p_periods)[-1]\n",
    "                ### Need to compute MA 200\n",
    "                #series_price_vec = pd.Series(price_vec).rolling(200).mean()\n",
    "                prices[:,n_firm,sample] = price_vec[:]\n",
    "    return prices"
   ]
  },
  {
   "cell_type": "code",
   "execution_count": 403,
   "id": "57b30591",
   "metadata": {},
   "outputs": [
    {
     "name": "stdout",
     "output_type": "stream",
     "text": [
      "CPU times: user 8.91 s, sys: 150 ms, total: 9.06 s\n",
      "Wall time: 8.58 s\n"
     ]
    }
   ],
   "source": [
    "%%time\n",
    "prices = multi_cournot(n_struct=1,p_periods=2000,n_sample=1000)"
   ]
  },
  {
   "cell_type": "code",
   "execution_count": 404,
   "id": "1d89c41b",
   "metadata": {
    "scrolled": false
   },
   "outputs": [
    {
     "data": {
      "image/png": "[encoded data removed]",
      "text/plain": [
       "<Figure size 432x288 with 1 Axes>"
      ]
     },
     "metadata": {
      "needs_background": "light"
     },
     "output_type": "display_data"
    }
   ],
   "source": [
    "n_firm = 0\n",
    "for sample in range(20):\n",
    "    plt.plot(range(2000),prices[:,n_firm,sample])\n",
    "plt.show()"
   ]
  },
  {
   "cell_type": "code",
   "execution_count": 406,
   "id": "9a1cc909",
   "metadata": {},
   "outputs": [
    {
     "data": {
      "text/plain": [
       "252.548515"
      ]
     },
     "execution_count": 406,
     "metadata": {},
     "output_type": "execute_result"
    }
   ],
   "source": [
    "np.mean(prices[1000:,0])"
   ]
  },
  {
   "cell_type": "code",
   "execution_count": 407,
   "id": "4e20f866",
   "metadata": {},
   "outputs": [
    {
     "data": {
      "text/plain": [
       "0      234.865\n",
       "1      249.140\n",
       "2      255.400\n",
       "3      265.995\n",
       "4      213.675\n",
       "        ...   \n",
       "995    237.495\n",
       "996    216.720\n",
       "997    283.120\n",
       "998    289.490\n",
       "999    168.345\n",
       "Length: 1000, dtype: float64"
      ]
     },
     "execution_count": 407,
     "metadata": {},
     "output_type": "execute_result"
    }
   ],
   "source": [
    "pd.DataFrame(prices[:,0,:]).iloc[1000:].mean()"
   ]
  },
  {
   "cell_type": "code",
   "execution_count": 408,
   "id": "c8356fc6",
   "metadata": {},
   "outputs": [
    {
     "data": {
      "text/plain": [
       "count    1000.000000\n",
       "mean      252.548515\n",
       "std        22.844383\n",
       "min       168.345000\n",
       "25%       237.651250\n",
       "50%       252.835000\n",
       "75%       268.292500\n",
       "max       324.520000\n",
       "dtype: float64"
      ]
     },
     "execution_count": 408,
     "metadata": {},
     "output_type": "execute_result"
    }
   ],
   "source": [
    "pd.DataFrame(prices[:,0,:]).iloc[1000:].mean().describe()"
   ]
  }
 ],
 "metadata": {
  "kernelspec": {
   "display_name": "Python 3",
   "language": "python",
   "name": "python3"
  },
  "language_info": {
   "codemirror_mode": {
    "name": "ipython",
    "version": 3
   },
   "file_extension": ".py",
   "mimetype": "text/x-python",
   "name": "python",
   "nbconvert_exporter": "python",
   "pygments_lexer": "ipython3",
   "version": "3.7.9"
  }
 },
 "nbformat": 4,
 "nbformat_minor": 5
}
