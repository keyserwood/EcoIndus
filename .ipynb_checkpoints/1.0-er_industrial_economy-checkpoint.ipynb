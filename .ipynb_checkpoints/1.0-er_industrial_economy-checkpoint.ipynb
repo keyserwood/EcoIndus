{
 "cells": [
  {
   "cell_type": "markdown",
   "id": "a5089cdb",
   "metadata": {},
   "source": [
    "# Industrial economy\n",
    "\n",
    "## Aim of work : \n",
    "* Compare classic Cournot oligopoly equilibrium with results obtained with a simple iterative process where players evolve their optimal strategies\n",
    "* Different market concentration [monopoly, duopoly, triopoly]\n",
    "* One sided auction : \n",
    "    1. Each indiv. firm selects its outpout\n",
    "    2. Simultaneous offer of quantities to the market\n",
    "    3. Compute a uniform price for all of these quantities\n",
    "    4. Each indiv. compute its profits\n",
    "    5. Thanks to profit each indiv. submits new quanity\n",
    "> Repeat\n",
    "\n",
    "### Market rules\n",
    "$$P(Q) = 600 - Q $$\n",
    "$$Q = \\sum q_i $$\n",
    "* All players are homogeneous hence : cost = 0\n",
    "\n",
    "### Production design\n",
    "* Random pick between \n",
    "*With n : number of firms*\n",
    "$$Q \\in ]0;5*IntegePart(120/n]$$\n",
    "* Produce between 0 and a max capacity \n",
    "* All firms have identical production\n",
    "* Set of individual bid is discrete : \n",
    "    * Can only take values such as 5-units increments : \n",
    "    * We have a bid index link to a quantity produced\n",
    "    * 5,10 ... K-5, K with K=5\n",
    "    * Set of S \n",
    "    * Uniform probability\n",
    "    \n",
    "![Auction_table](table_auction.png)"
   ]
  },
  {
   "cell_type": "markdown",
   "id": "7a9a658a",
   "metadata": {},
   "source": [
    "### Load packages"
   ]
  },
  {
   "cell_type": "code",
   "execution_count": 1,
   "id": "1c3afd50",
   "metadata": {},
   "outputs": [],
   "source": [
    "import numpy as np"
   ]
  },
  {
   "cell_type": "markdown",
   "id": "41f9e0ff",
   "metadata": {},
   "source": [
    "## Data structure\n",
    "\n",
    "![consignes](consignes.png)"
   ]
  },
  {
   "cell_type": "markdown",
   "id": "24fe013e",
   "metadata": {},
   "source": [
    "### We are going to have : \n",
    "* With : p = periods \n",
    "* With : n = number of firms\n",
    "* With : s = number of bids possibilite\n",
    "\n",
    "#### A)  Bid matrix :\n",
    "* A matrix : p rows & n columns (p,n)\n",
    "    * bid(p,n) = Bid of firm n at period p\n",
    "\n",
    "#### B)  Profit matrix:\n",
    "* A matrix : p rows & n columns (p,n)\n",
    "    * profit(p,n) = Profit of firm n at period p\n",
    "\n",
    "\n",
    "#### C)  Probabilities matrix:\n",
    "* A matrix : s rows & n columns (s,n)\n",
    "    * prob(s,n) = Probability of bid s for firm n\n"
   ]
  },
  {
   "cell_type": "markdown",
   "id": "32ca6ad2",
   "metadata": {},
   "source": [
    "## Functions\n",
    "\n",
    "#### Reinforcement\n",
    "\n",
    "![reinforcement](reinforcement.png)"
   ]
  },
  {
   "cell_type": "code",
   "execution_count": null,
   "id": "83d8e289",
   "metadata": {},
   "outputs": [],
   "source": []
  }
 ],
 "metadata": {
  "kernelspec": {
   "display_name": "Python 3",
   "language": "python",
   "name": "python3"
  },
  "language_info": {
   "codemirror_mode": {
    "name": "ipython",
    "version": 3
   },
   "file_extension": ".py",
   "mimetype": "text/x-python",
   "name": "python",
   "nbconvert_exporter": "python",
   "pygments_lexer": "ipython3",
   "version": "3.7.9"
  }
 },
 "nbformat": 4,
 "nbformat_minor": 5
}
